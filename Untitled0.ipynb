{
  "nbformat": 4,
  "nbformat_minor": 0,
  "metadata": {
    "colab": {
      "provenance": [],
      "gpuType": "T4",
      "authorship_tag": "ABX9TyNaA8md7QvqMXniY9Jla4/r",
      "include_colab_link": true
    },
    "kernelspec": {
      "name": "python3",
      "display_name": "Python 3"
    },
    "language_info": {
      "name": "python"
    },
    "accelerator": "GPU"
  },
  "cells": [
    {
      "cell_type": "markdown",
      "metadata": {
        "id": "view-in-github",
        "colab_type": "text"
      },
      "source": [
        "<a href=\"https://colab.research.google.com/github/Sooraj9503/cuda/blob/main/Untitled0.ipynb\" target=\"_parent\"><img src=\"https://colab.research.google.com/assets/colab-badge.svg\" alt=\"Open In Colab\"/></a>"
      ]
    },
    {
      "cell_type": "code",
      "execution_count": 23,
      "metadata": {
        "colab": {
          "base_uri": "https://localhost:8080/"
        },
        "id": "Uq_91-0gImKI",
        "outputId": "aac6cd95-b331-403c-9c49-e8908e3b0c53"
      },
      "outputs": [
        {
          "output_type": "stream",
          "name": "stdout",
          "text": [
            "Overwriting vec_add.cu\n"
          ]
        }
      ],
      "source": [
        "%%writefile vec_add.cu\n",
        "\n",
        "#include<stdio.h>\n",
        "#include<cuda_runtime.h>\n",
        "#include<stdlib.h>\n",
        "#include<device_launch_parameters.h>\n",
        "#include<math.h>\n",
        "#include<assert.h>\n",
        "\n",
        "\n",
        "// Check for errors in the result\n",
        "void error_check(int* a, int* b, int* c, int n)\n",
        "{\n",
        "    for (int i = 0; i < n; i++)\n",
        "    {\n",
        "        assert(c[i] == a[i] + b[i]);\n",
        "    }\n",
        "}\n",
        "\n",
        "__global__ void addition(int* a, int* b, int *c, int n)\n",
        "{\n",
        "  //calculate global thread id\n",
        "  int idx = blockIdx.x * blockDim.x + threadIdx.x;\n",
        "  if(idx < n)\n",
        "  {\n",
        "    c[idx] = a[idx] + b[idx];\n",
        "  }\n",
        "}\n",
        "\n",
        "int main()\n",
        "{\n",
        "  int *ha,*hb, *hc, *da, *db, *dc;\n",
        "  int  n = 8;\n",
        "  size_t size = n * sizeof(int);\n",
        "\n",
        "  //Allocate memory on host\n",
        "  ha = (int*)malloc(size);\n",
        "  hb = (int*)malloc(size);\n",
        "  hc = (int*)malloc(size);\n",
        "\n",
        "  //Allocate device memory\n",
        "  cudaMalloc(&da, size);\n",
        "  cudaMalloc(&db, size);\n",
        "  cudaMalloc(&dc, size);\n",
        "\n",
        "  //Initialize vectors with rand values 0 - 99\n",
        "for(int i = 0; i < n; i++)\n",
        "{\n",
        "  ha[i] = rand() % 100;\n",
        "  hb[i] = rand() % 100;\n",
        "}\n",
        "\n",
        "//Copy data from host to device\n",
        "cudaMemcpy(da, ha, size, cudaMemcpyHostToDevice);\n",
        "cudaMemcpy(db, hb, size, cudaMemcpyHostToDevice);\n",
        "\n",
        "//ThreadBlockSize\n",
        "int numberOfThreads = 256;\n",
        "\n",
        "//GridSize\n",
        "int numberOfBlcks = (n + numberOfThreads - 1) / numberOfThreads;\n",
        "\n",
        "addition<<<numberOfBlcks, numberOfThreads>>>(da,db,dc,n);\n",
        "\n",
        "//Copy the result from device to host\n",
        "cudaMemcpy(hc, dc, size, cudaMemcpyDeviceToHost);\n",
        "\n",
        "//Check result from errors\n",
        "error_check(ha, hb, hc, n);\n",
        "\n",
        "printf(\"COMPLETED SUCCESFULLY\\n\");\n",
        "\n",
        "//Display result\n",
        "for(int i = 0; i < n; i++)\n",
        "{\n",
        "  printf(\"%d \",hc[i]);\n",
        "}\n",
        "printf(\"\\n\");\n",
        "\n",
        "// Free device memory\n",
        "cudaFree(da);\n",
        "cudaFree(db);\n",
        "cudaFree(dc);\n",
        "\n",
        "// Free host memory\n",
        "free(ha);\n",
        "free(hb);\n",
        "free(hc);\n",
        "  return 0;\n",
        "}"
      ]
    },
    {
      "cell_type": "code",
      "source": [
        "!nvcc vec_add.cu"
      ],
      "metadata": {
        "id": "a3zUMYC8Rmun"
      },
      "execution_count": 24,
      "outputs": []
    },
    {
      "cell_type": "code",
      "source": [
        "!./a.out\n"
      ],
      "metadata": {
        "colab": {
          "base_uri": "https://localhost:8080/"
        },
        "id": "VgPWKLJIWUr8",
        "outputId": "439b261f-7717-4257-dc65-1c7ddfac58c3"
      },
      "execution_count": 25,
      "outputs": [
        {
          "output_type": "stream",
          "name": "stdout",
          "text": [
            "COMPLETED SUCCESFULLY\n",
            "169 92 128 178 70 89 149 89 \n"
          ]
        }
      ]
    }
  ]
}