{
  "nbformat": 4,
  "nbformat_minor": 0,
  "metadata": {
    "colab": {
      "provenance": [],
      "gpuType": "T4",
      "authorship_tag": "ABX9TyP3cwhuNP/AiJ5JStnWtHoX",
      "include_colab_link": true
    },
    "kernelspec": {
      "name": "python3",
      "display_name": "Python 3"
    },
    "language_info": {
      "name": "python"
    },
    "accelerator": "GPU"
  },
  "cells": [
    {
      "cell_type": "markdown",
      "metadata": {
        "id": "view-in-github",
        "colab_type": "text"
      },
      "source": [
        "<a href=\"https://colab.research.google.com/github/Sooraj9503/cuda/blob/main/matrixMultiplicationOnGpu.ipynb\" target=\"_parent\"><img src=\"https://colab.research.google.com/assets/colab-badge.svg\" alt=\"Open In Colab\"/></a>"
      ]
    },
    {
      "cell_type": "code",
      "execution_count": 13,
      "metadata": {
        "colab": {
          "base_uri": "https://localhost:8080/"
        },
        "id": "jkD8zJqoAv7F",
        "outputId": "941c01ca-be5c-403c-f50f-3f2675903969"
      },
      "outputs": [
        {
          "output_type": "stream",
          "name": "stdout",
          "text": [
            "Overwriting matrixMul.cu\n"
          ]
        }
      ],
      "source": [
        "%%writefile matrixMul.cu\n",
        "\n",
        "#include<iostream>\n",
        "#include<cstdlib>\n",
        "#include<math.h>\n",
        "#include<iomanip>\n",
        "#include<cuda_runtime.h>\n",
        "using namespace std;\n",
        "\n",
        "__global__ void mul(int *arr1, int *arr2, int *arr3, int rows, int cols)\n",
        "{\n",
        "    int tid = blockIdx.x * blockDim.x + threadIdx.x;\n",
        "    if(tid < rows * cols)\n",
        "    {\n",
        "        arr3[tid] = arr1[tid] * arr2[tid];\n",
        "    }\n",
        "}\n",
        "\n",
        "int main()\n",
        "{\n",
        "    int rows = 5, cols = 5;\n",
        "    int *harr1, *harr2, *harr3, *darr1, *darr2, *darr3;\n",
        "    size_t size = rows * cols * sizeof(int);\n",
        "\n",
        "    harr1 = (int*)malloc(size);\n",
        "    harr2 = (int*)malloc(size);\n",
        "    harr3 = (int*)malloc(size);\n",
        "\n",
        "    cudaMalloc(&darr1, size);\n",
        "    cudaMalloc(&darr2, size);\n",
        "    cudaMalloc(&darr3, size);\n",
        "\n",
        "    for(int i = 0; i < rows; i++)\n",
        "    {\n",
        "        for(int j = 0; j <cols; j++)\n",
        "        {\n",
        "            harr1[i * cols + j] = rand() % 5;\n",
        "            harr2[i * cols + j] = rand() % 5;\n",
        "        }\n",
        "    }\n",
        "\n",
        "    cudaMemcpy(darr1, harr1, size, cudaMemcpyHostToDevice);\n",
        "    cudaMemcpy(darr2, harr2, size, cudaMemcpyHostToDevice);\n",
        "\n",
        "    int threadPerBlock = 256;\n",
        "    int blocks = (rows * cols + threadPerBlock - 1) / threadPerBlock;\n",
        "\n",
        "    mul<<<blocks, threadPerBlock>>>(darr1, darr2, darr3, rows, cols);\n",
        "    cudaDeviceSynchronize();\n",
        "\n",
        "    cudaMemcpy(harr3, darr3, size, cudaMemcpyDeviceToHost);\n",
        "\n",
        "    for(int i = 0; i < rows; i++)\n",
        "    {\n",
        "        for(int j = 0; j < cols; j++)\n",
        "        {\n",
        "            cout<<setw(4)<<harr3[i * cols +j];\n",
        "        }\n",
        "        cout<<endl;\n",
        "    }\n",
        "\n",
        "    cudaFree(darr1);\n",
        "    cudaFree(darr2);\n",
        "    cudaFree(darr3);\n",
        "    free(harr1);\n",
        "    free(harr2);\n",
        "    free(harr3);\n",
        "\n",
        "    return 0;\n",
        "}"
      ]
    },
    {
      "cell_type": "code",
      "source": [
        "!nvcc matrixMul.cu"
      ],
      "metadata": {
        "id": "EsJMgJk_BAPZ"
      },
      "execution_count": 14,
      "outputs": []
    },
    {
      "cell_type": "code",
      "source": [
        "!./a.out"
      ],
      "metadata": {
        "colab": {
          "base_uri": "https://localhost:8080/"
        },
        "id": "D7D8FlaZBFLm",
        "outputId": "552dbf1d-fc9e-4410-e499-a80680d90f4f"
      },
      "execution_count": 15,
      "outputs": [
        {
          "output_type": "stream",
          "name": "stdout",
          "text": [
            "   3   0   0   2   4\n",
            "   4   0   3   0   2\n",
            "   3   8   0   6   0\n",
            "   8   6   8   3   2\n",
            "  12   4   8  12   0\n"
          ]
        }
      ]
    }
  ]
}